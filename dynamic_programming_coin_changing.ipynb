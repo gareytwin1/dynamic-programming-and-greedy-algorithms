{
  "cells": [
    {
      "cell_type": "markdown",
      "metadata": {
        "id": "MkwfG90XMVRe"
      },
      "source": [
        "# Dynamic Programming: Coin Changing Problem.\n",
        "\n",
        "We are given a list of possible denominations $lst: [c_1, \\ldots, c_k]$ and an amount $x$ for which we wish to make change.\n",
        "\n",
        "Choose numbers of coins $n_1, \\ldots, n_k$ of coins $c_1, \\ldots, c_k$, respectively so that\n",
        "  1. $n_1 c_1 + \\ldots + n_k c_k = x$, i.e, we provide _exact_ change\n",
        "  2. The number of coins $n_1 + \\ldots + n_k$ is minimized.\n",
        "  \n",
        "\n"
      ]
    },
    {
      "cell_type": "code",
      "execution_count": 1,
      "metadata": {
        "id": "tkBPKmfhMVRg"
      },
      "outputs": [],
      "source": [
        "%matplotlib inline\n",
        "import matplotlib.pyplot as plt\n",
        "import time\n",
        "lst0 = [1, 4, 7, 9, 16, 43]\n",
        "x0 = 33"
      ]
    },
    {
      "cell_type": "markdown",
      "metadata": {
        "id": "Izpfdvb5MVRh"
      },
      "source": [
        "## 1. Identify Optimal Substructure\n",
        "\n",
        "To identify optimal substructure, we _stage_ our decisions. The decision to be made is what coins to provide as change.\n",
        "We can stage these decisions as follows:\n",
        "  1. Commit to providing a coin now. Let us say coin $c_i$.\n",
        "  2. What remains then is how to provide change for $x - c_i$ using the minimum number of coins possible. In particular, we notice that the remaining problem is an instance of the original problem itself for a smaller amount.\n",
        "  3. Once (2) is solved, we can append the coin $c_i$ from (1) to the set of coins that solve (2).\n",
        "  \n",
        "Therefore, we proceed to formulate a recursive function for the minimum number of coins.\n",
        "\n",
        "## 2. Formulate a recurrence for the value\n",
        "\n",
        "The recurrence $\\text{minCoins}(x)$ takes in amount to change (it also has a parameter lst of the list of coins but let us leave it out for readability).\n",
        "\n",
        "The recursive definition is\n",
        "\n",
        "$$\\text{minCoins}(x) = \\ \\min\\ \\left\\{ \\begin{array}{ll}\n",
        "1 + \\text{minCoins}(x - c_1) & \\leftarrow\\ \\ \\text{use coin}\\ c_1 \\\\\n",
        "\\vdots & \\\\\n",
        "1 + \\text{minCoins}(x - c_n) & \\leftarrow\\ \\ \\text{use coin}\\ c_n \\\\\n",
        "\\end{array}\\right.$$\n",
        "\n",
        "The base cases are\n",
        "\n",
        "  * $\\text{minCoins}(0) = 0$\n",
        "  * $\\text{minCoins}(x) = \\infty$ whenever $x < 0$. __Q:__ Interpret this base case!"
      ]
    },
    {
      "cell_type": "code",
      "execution_count": 2,
      "metadata": {
        "id": "k2Xz7biaMVRh"
      },
      "outputs": [],
      "source": [
        "def minCoins_recursive_1(x, lst):\n",
        "    if x == 0:\n",
        "        return 0\n",
        "    if x < 0:\n",
        "        return 1000000 # A very large number!\n",
        "    opts = [ 1 + minCoins_recursive_1(x - ci, lst) for ci in lst ]\n",
        "    val = min(opts)\n",
        "    return val"
      ]
    },
    {
      "cell_type": "code",
      "execution_count": 3,
      "metadata": {
        "id": "ZNY5yXPcMVRi",
        "outputId": "8512a420-ba16-4a7e-be53-41c033ef41c6"
      },
      "outputs": [
        {
          "name": "stdout",
          "output_type": "stream",
          "text": [
            "2\n",
            "2\n",
            "4\n"
          ]
        }
      ],
      "source": [
        "print(minCoins_recursive_1(17, lst0))\n",
        "print(minCoins_recursive_1(23, lst0))\n",
        "# CAUTION: This will take a minute or so to run!!  You may interupt it.\n",
        "print(minCoins_recursive_1(42, lst0))"
      ]
    },
    {
      "cell_type": "markdown",
      "metadata": {
        "id": "po9AQigmMVRi"
      },
      "source": [
        "## Memoization\n",
        "\n",
        "You already saw that the recursive function is prohibitively expensive. If you add a `print(x)` statement to the first line of the\n",
        "function, you will see why. But beware of the size of the output!\n",
        "\n",
        "To fix this, we use a memo table $T$ with entries $T[0], \\ldots, T[x]$ where $x$ is the original amount we wish to make change for.\n",
        "At each recursive call, when we wish to find out $\\text{minCoins}(x - c_i)$, it will be simply read from the table as opposed to computed\n",
        "afresh using a recursive call.\n",
        "\n"
      ]
    },
    {
      "cell_type": "code",
      "execution_count": 4,
      "metadata": {
        "id": "oMEMnAucMVRj"
      },
      "outputs": [],
      "source": [
        "def minCoins_memoize_1(x, lst):\n",
        "    T = [0]*(x+1) # make a list of all zeros of size x + 1\n",
        "    for i in range(1,x+1):\n",
        "        opts = [1 + T[i - cj] for cj in lst if (i - cj >= 0)]\n",
        "        opts.append(10000000) # so that the list is not empty. Or else, the next line will throw an exception\n",
        "        T[i] = min(opts)\n",
        "    return T[x]"
      ]
    },
    {
      "cell_type": "code",
      "execution_count": 5,
      "metadata": {
        "id": "OZA83MCnMVRj",
        "outputId": "0c7e4316-79d8-4c79-8a23-3e0739ef6eeb"
      },
      "outputs": [
        {
          "name": "stdout",
          "output_type": "stream",
          "text": [
            "2\n",
            "2\n",
            "4\n",
            "10\n"
          ]
        }
      ],
      "source": [
        "print(minCoins_memoize_1(17, lst0))\n",
        "print(minCoins_memoize_1(23, lst0))\n",
        "# Compare the running time to the recursive version :-)\n",
        "print(minCoins_memoize_1(35, lst0))\n",
        "print(minCoins_memoize_1(298, lst0))\n"
      ]
    },
    {
      "cell_type": "markdown",
      "metadata": {
        "id": "hsxQd8x0MVRj"
      },
      "source": [
        "## Solution Recovery\n",
        "\n",
        "We have computed the number of coins needed, but how do we compute the actual coins themselves?\n",
        "\n",
        "We augment the memo table not just to record the minimum value but also which coin gave us the minimum value.\n",
        "\n",
        "To do so, we make a new table $S[0], ... , S[x]$.\n",
        "\n",
        "Once we have that recovering the set of coins involves yet another loop."
      ]
    },
    {
      "cell_type": "code",
      "execution_count": 6,
      "metadata": {
        "id": "70tDOr5TMVRk"
      },
      "outputs": [],
      "source": [
        "def minCoins_1(x, lst):\n",
        "    T = [0] * (x+1) # memo table\n",
        "    S = [-1]* (x+1) # best current/immediate decision\n",
        "    coins_used = []\n",
        "    for i in range(1,x+1):\n",
        "        opts = [ (1 + T[i - cj], cj)  for cj in lst if i - cj >= 0]\n",
        "        opts.append((1000000000, -1)) # Append + infinity to avoid min(..) raising an exception in the next line\n",
        "        T[i], S[i] = min(opts)\n",
        "    # NOW RECOVER the list of coins by using the S table.\n",
        "    value_left = x\n",
        "    while value_left > 0:\n",
        "        coins_used.append(S[value_left])# append the immedidate decision\n",
        "        value_left = value_left - S[value_left] # update the amount left\n",
        "    assert value_left == 0\n",
        "    return T[x], coins_used"
      ]
    },
    {
      "cell_type": "code",
      "execution_count": 7,
      "metadata": {
        "id": "PUDK353iMVRk",
        "outputId": "069dc437-d56f-4bad-92bc-4367529b747d"
      },
      "outputs": [
        {
          "name": "stdout",
          "output_type": "stream",
          "text": [
            "(2, [1, 16])\n",
            "(2, [7, 16])\n",
            "(4, [1, 9, 9, 16])\n",
            "(10, [1, 7, 16, 16, 43, 43, 43, 43, 43, 43])\n"
          ]
        }
      ],
      "source": [
        "print(minCoins_1(17, lst0))\n",
        "print(minCoins_1(23, lst0))\n",
        "# Compare the running time to the recursive version :-)\n",
        "print(minCoins_1(35, lst0))\n",
        "print(minCoins_1(298, lst0))"
      ]
    },
    {
      "cell_type": "markdown",
      "metadata": {
        "id": "sR4366fQMVRl"
      },
      "source": [
        "## Dynamic Programming Solution (Approach # 2)\n",
        "\n",
        "As you can see from the previous approach: there are too many \"repeated\" decisions. The same coin is repeatedly used in multiple steps.\n",
        "Suppose we stage the decision differently, we could formulate a different and perhaps faster function.\n",
        "\n",
        "1. We are going to define a __recursive function__ $$minCoins(lst,x)$$ that will return the minimum number of coins needed to make change given $lst$ of coin denominations and $x$ the amount to make change for.\n",
        "\n",
        "2. We will then make the recursive function efficient by using a  memo table.\n",
        "\n",
        "3. We will show how from $minCoins(lst,x)$, we can also figure out the optimal way to give change."
      ]
    },
    {
      "cell_type": "markdown",
      "metadata": {
        "id": "RRZPRoFfMVRl"
      },
      "source": [
        "### 0. Formulating the optimal substructure.\n",
        "\n",
        "   1. Let $lst: [c_1, c_2, \\ldots, c_j]$ and $x> 0$ be the amount to be changed. We will examine the coin $c_j$, the very last coin\n",
        "   and decide how many times we are going to use the coin. This number $n_j$ can be between $0$ and $\\lfloor \\frac{x}{c_j} \\rfloor$.\n",
        "   2. Next, we will remove coin $c_j$ from further consideration and solve the problem for amount $x - n_j c_j$ with the new list of coins\n",
        "   $lst: [c_1, \\ldots, c_{j-1}]$.\n",
        "\n",
        "\n",
        "### 1. Formulating the recursive function\n",
        "<p>\n",
        "Let $lst: [c_1, c_2, \\ldots, c_j]$ and $x> 0$ be the amount to be changed. We will first work at the base cases of the recurrence $$minCoins(lst,x)$$\n",
        "\n",
        "__Base Case #1 __  If $x = 0$, no amount needs to be changed.\n",
        "$$minCoins(lst,0) = 0$$.\n",
        "\n",
        "<p>\n",
        "__Base Case #2 __ If $x > 0$ but $lst = []$ is the empty list, then we have change to make but no coins to make change with, or alternatively only a fictitious 0 cent coins. This is an _undesirable situation_. Therefore, we set its value to $+\\infty$.\n",
        "$$minCoins(lst,x) = \\infty,\\ \\text{if}\\ lst = []\\ \\text{and}\\ x > 0 $$\n",
        "\n",
        "<p>\n",
        "\n",
        "__Recursive Definition__ Assume that none of the base cases hold. Let $lst: [c_1, c_2, \\ldots, c_j]$ and $x> 0$ be the amount to be changed.\n",
        "\n",
        "Let us focus on the last entry $c_j$ of the list.\n",
        "1. We can decide to use the coin $c_j$ or not.\n",
        "2. More generally, if $p_j = \\lfloor \\frac{x}{c_j} \\rfloor$, then we can choose to use $c_j$ not at all (0 times), once, twice, and so on all the way up to $p_j$ times.\n",
        "3. Once we commit to using the coin $c_j$ some number of times, we are left with the sub problem involving $lst': [c_1, \\ldots, c_{j-1}]$ and a modified amount $x - s_j c_j$ if coin $c_j$ ended up being used $s_j$ times.\n",
        "\n",
        "\n",
        "$$minCoins([c_1,\\ldots,c_j],x):\\ \\min\\ \\begin{cases}\n",
        "minCoins([c_1,\\ldots,c_{j-1}],x) & \\leftarrow c_j\\ \\text{is not used at all} \\\\\n",
        "1 + minCoins([c_1,\\ldots,c_{j-1}], x- c_j) & \\leftarrow c_j\\ \\text{is used once}\\\\\n",
        "\\vdots & \\\\\n",
        "p_j + minCoins([c_1,\\ldots,c_{j-1}], x - p_j c_j) & \\leftarrow c_j\\ \\text{is used}\\ p_j\\ \\text{times}\\\\\n",
        "\\end{cases}$$\n",
        "\n",
        "\n",
        "<p>\n",
        "The recurrence and bases cases above are directly implemented in python\n",
        "\n",
        "\n",
        "    "
      ]
    },
    {
      "cell_type": "code",
      "execution_count": 26,
      "metadata": {
        "id": "hWFLa2LZMVRl",
        "outputId": "ba52d800-8695-4079-b588-8c35b7deed1b"
      },
      "outputs": [
        {
          "name": "stdout",
          "output_type": "stream",
          "text": [
            "Minimum number of coins needed for [1, 4, 7, 9, 16, 43] --> 3\n"
          ]
        }
      ],
      "source": [
        "def minCoinsRec(lst,x):\n",
        "    j = len(lst) # the length of the list\n",
        "    # Base case\n",
        "    if (x == 0):\n",
        "        return 0\n",
        "    elif (j == 0): # List is empty\n",
        "        return 100000000 # Return a really large number as a place holder for infinity.\n",
        "    # Otherwise, implement the recursive function\n",
        "\n",
        "    cj = lst[j-1] # the last element\n",
        "    lst1 = lst[0:j-1] # all elements of the list but the last one\n",
        "    pj = int(x/cj) # How many times can coin cj be used\n",
        "    minValue = 100000000 #Initialize to a very large number\n",
        "    for i in range(0,pj+1): # Includes both 0 and pj\n",
        "        v = i + minCoinsRec(lst1, x - i * cj) # Make a recursive call\n",
        "        if (v < minValue):\n",
        "            minValue = v\n",
        "    return minValue # Return the final answer\n",
        "\n",
        "# Let us try it on the lst0 example above\n",
        "j = minCoinsRec(lst0,x0)\n",
        "print('Minimum number of coins needed for',lst0,'-->', j)\n"
      ]
    },
    {
      "cell_type": "code",
      "execution_count": 27,
      "metadata": {
        "collapsed": true,
        "id": "NxUVVEUlMVRm"
      },
      "outputs": [],
      "source": [
        "#Let us try it on a larger example, Careful -- this will not terminate anytime soon.\n",
        "lst1=[1,2,4,8]\n",
        "x1 = 4196"
      ]
    },
    {
      "cell_type": "markdown",
      "metadata": {
        "id": "mzv65HJvMVRm"
      },
      "source": [
        "## Memoization\n",
        "\n",
        "We just construct a table of all possible recursive calls and fill it in.\n",
        "\n",
        "If we go back to the minCoins recurrence, let $lst: [c_1,\\ldots,c_n]$ be the original list and $x$ be the original amount.\n",
        "\n",
        "1. Every subsequent call is of the form $\\overline{lst}: [c_1,\\ldots, c_j]$ for some $j \\geq 0$ and some amount $0 \\leq y < x$.\n",
        "\n",
        "Let us make a 2D memo table where the rows are the amounts from $0, 1, 2, \\ldots, x$ and the columns are values of $j$ from $j=0, 1, 2,\\ldots, n$ denoting the lists $[c_1,\\ldots,c_j]$. For $j=0$, we get the empty list.\n",
        "\n",
        "$$\\begin{array}{|c|c|c|c|c|c|}\n",
        "\\hline\n",
        "   & [] & [c_1] & [c_1, c_2] & \\cdots & [c_1, c_2, \\ldots, c_{n-1}] & [c_1, \\ldots, c_n] \\\\\n",
        "   \\hline\n",
        " 0 & 0 & 0 & 0 &  \\cdots &  0&  0\\\\\n",
        " 1 & \\infty & & & & & \\\\\n",
        " 2 & \\infty & & & & & \\\\\n",
        " \\vdots & & & & \\ddots & & \\\\\n",
        " x & \\infty & & \\cdots & & &  ?? \\\\\n",
        " \\hline\n",
        "\\end{array}$$\n",
        "\n",
        "The memo table has size $n \\times x$ and we fill the table in starting from top left corner to the bottom right corner. The moment the bottom right corner is filled in, we have solved the original problem!\n"
      ]
    },
    {
      "cell_type": "code",
      "execution_count": 10,
      "metadata": {
        "collapsed": true,
        "id": "v2mTMmpiMVRm"
      },
      "outputs": [],
      "source": [
        "def minCoinsBottomUpMemoTable(lst,x):\n",
        "    n = len(lst)\n",
        "    # Create a memo table with (x+1) rows and (n+1) columns\n",
        "    memoTbl =  [ [0 for i in range(0,n+1) ] for j in range(0,x+1) ]\n",
        "    solutionTbl = [[ -1 for i in range(0,n+1)] for j in range(0,x+1)]\n",
        "    # No need to fill in the 0s in the table\n",
        "    for y in range(1,x+1):\n",
        "        memoTbl[y][0] = 1000000\n",
        "        for j in range(1,n+1):\n",
        "            cj = lst[j-1]\n",
        "            if (y < cj):\n",
        "                memoTbl[y][j] = memoTbl[y][j-1]\n",
        "                solutionTbl[y][j] = 0\n",
        "            else:\n",
        "                pj = int(y/cj)\n",
        "                assert(pj > 0)\n",
        "                minValue= 1000000\n",
        "                bestOption = -1\n",
        "                for i in range(0,pj+1):\n",
        "                    l = i+memoTbl[y-i*cj][j-1]\n",
        "                    if (l < minValue):\n",
        "                        minValue = l\n",
        "                        bestOption = i\n",
        "                #Update memo table and solution tables\n",
        "                memoTbl[y][j] = minValue\n",
        "                solutionTbl[y][j] = bestOption\n",
        "    # Done\n",
        "    print('Minimum number of coins needed:', memoTbl[x][n])\n",
        "    # Extracting solution\n",
        "    j = n\n",
        "    y = x\n",
        "    while (y > 0 and j >= 0):\n",
        "        k = solutionTbl[y][j]\n",
        "        print('Coin:', lst[j-1], ' # Times:', k)\n",
        "        y = y - k * lst[j-1]\n",
        "        j = j -1\n",
        "\n",
        "\n",
        "\n"
      ]
    },
    {
      "cell_type": "code",
      "execution_count": 11,
      "metadata": {
        "id": "sPiyymE_MVRm",
        "outputId": "0fbe4325-3c5e-4e1c-ce36-71ec7ad12f6d"
      },
      "outputs": [
        {
          "name": "stdout",
          "output_type": "stream",
          "text": [
            "Minimum number of coins needed: 525\n",
            "Coin: 8  # Times: 524\n",
            "Coin: 4  # Times: 1\n"
          ]
        }
      ],
      "source": [
        "lst1\n",
        "x1\n",
        "minCoinsBottomUpMemoTable(lst1,x1)"
      ]
    },
    {
      "cell_type": "code",
      "execution_count": 12,
      "metadata": {
        "collapsed": true,
        "id": "PTU3TSMBMVRn"
      },
      "outputs": [],
      "source": [
        "def measureRunningTimeComplexity(fun,lst,x):\n",
        "    t0 = time.clock()\n",
        "    fun(lst,x)\n",
        "    t1 = time.clock() # A rather crude way to time the process.\n",
        "    return (t1 - t0)"
      ]
    },
    {
      "cell_type": "code",
      "execution_count": 13,
      "metadata": {
        "id": "7zUGxx3aMVRn",
        "outputId": "72a11979-4760-4c1d-b900-6273e87fb098"
      },
      "outputs": [
        {
          "name": "stdout",
          "output_type": "stream",
          "text": [
            "[1] 9\n"
          ]
        },
        {
          "ename": "AttributeError",
          "evalue": "module 'time' has no attribute 'clock'",
          "output_type": "error",
          "traceback": [
            "\u001b[0;31m---------------------------------------------------------------------------\u001b[0m",
            "\u001b[0;31mAttributeError\u001b[0m                            Traceback (most recent call last)",
            "Cell \u001b[0;32mIn[13], line 9\u001b[0m\n\u001b[1;32m      7\u001b[0m x \u001b[38;5;241m=\u001b[39m \u001b[38;5;241m2\u001b[39m\u001b[38;5;241m*\u001b[39m\u001b[38;5;241m*\u001b[39m(i\u001b[38;5;241m+\u001b[39m\u001b[38;5;241m1\u001b[39m)\u001b[38;5;241m+\u001b[39m \u001b[38;5;241m2\u001b[39m\u001b[38;5;241m*\u001b[39m\u001b[38;5;241m*\u001b[39mi\u001b[38;5;241m+\u001b[39m\u001b[38;5;241m3\u001b[39m\n\u001b[1;32m      8\u001b[0m \u001b[38;5;28mprint\u001b[39m(lst,x)\n\u001b[0;32m----> 9\u001b[0m t1 \u001b[38;5;241m=\u001b[39m \u001b[43mmeasureRunningTimeComplexity\u001b[49m\u001b[43m(\u001b[49m\u001b[43mminCoinsBottomUpMemoTable\u001b[49m\u001b[43m,\u001b[49m\u001b[43mlst\u001b[49m\u001b[43m,\u001b[49m\u001b[43mx\u001b[49m\u001b[43m)\u001b[49m\n\u001b[1;32m     10\u001b[0m t2 \u001b[38;5;241m=\u001b[39m measureRunningTimeComplexity(minCoinsRec,lst,x)\n\u001b[1;32m     11\u001b[0m nList\u001b[38;5;241m.\u001b[39mappend(i)\n",
            "Cell \u001b[0;32mIn[12], line 2\u001b[0m, in \u001b[0;36mmeasureRunningTimeComplexity\u001b[0;34m(fun, lst, x)\u001b[0m\n\u001b[1;32m      1\u001b[0m \u001b[38;5;28;01mdef\u001b[39;00m \u001b[38;5;21mmeasureRunningTimeComplexity\u001b[39m(fun,lst,x):\n\u001b[0;32m----> 2\u001b[0m     t0 \u001b[38;5;241m=\u001b[39m \u001b[43mtime\u001b[49m\u001b[38;5;241;43m.\u001b[39;49m\u001b[43mclock\u001b[49m()\n\u001b[1;32m      3\u001b[0m     fun(lst,x)\n\u001b[1;32m      4\u001b[0m     t1 \u001b[38;5;241m=\u001b[39m time\u001b[38;5;241m.\u001b[39mclock() \u001b[38;5;66;03m# A rather crude way to time the process.\u001b[39;00m\n",
            "\u001b[0;31mAttributeError\u001b[0m: module 'time' has no attribute 'clock'"
          ]
        }
      ],
      "source": [
        "# Let us generate a plot of the running times\n",
        "nList=[]\n",
        "bottomUpTimes=[]\n",
        "topDownTimes=[]\n",
        "for i in range(1,8):\n",
        "    lst=[2**j for j in range(0,i) ]\n",
        "    x = 2**(i+1)+ 2**i+3\n",
        "    print(lst,x)\n",
        "    t1 = measureRunningTimeComplexity(minCoinsBottomUpMemoTable,lst,x)\n",
        "    t2 = measureRunningTimeComplexity(minCoinsRec,lst,x)\n",
        "    nList.append(i)\n",
        "    bottomUpTimes.append(t1)\n",
        "    topDownTimes.append(t2)\n",
        "\n",
        "\n",
        "plt1=plt.plot(nList,bottomUpTimes,'-b*')\n",
        "plt2=plt.plot(nList,topDownTimes,'-ro')\n",
        "plt.xlabel('n (number of coins)')\n",
        "plt.ylabel('Running time (seconds)')\n",
        "plt.title('Comparing bottom up with recursive')\n",
        "##plt.legend([plt1,plt2],['Bottom Up','Recursive'])\n",
        "plt.grid(True)"
      ]
    },
    {
      "cell_type": "code",
      "execution_count": null,
      "metadata": {
        "collapsed": true,
        "id": "97M3eZqsMVRn"
      },
      "outputs": [],
      "source": []
    }
  ],
  "metadata": {
    "colab": {
      "provenance": []
    },
    "kernelspec": {
      "display_name": "Python 3",
      "language": "python",
      "name": "python3"
    },
    "language_info": {
      "codemirror_mode": {
        "name": "ipython",
        "version": 3
      },
      "file_extension": ".py",
      "mimetype": "text/x-python",
      "name": "python",
      "nbconvert_exporter": "python",
      "pygments_lexer": "ipython3",
      "version": "3.12.2"
    }
  },
  "nbformat": 4,
  "nbformat_minor": 0
}
